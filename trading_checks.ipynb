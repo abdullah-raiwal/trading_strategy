{
 "cells": [
  {
   "cell_type": "code",
   "execution_count": 216,
   "id": "0f909cec",
   "metadata": {},
   "outputs": [],
   "source": [
    "import pandas as pd\n",
    "import os\n",
    "    from openpyxl import load_workbook"
   ]
  },
  {
   "cell_type": "code",
   "execution_count": 198,
   "id": "ef0d3411",
   "metadata": {},
   "outputs": [
    {
     "data": {
      "text/html": [
       "<div>\n",
       "<style scoped>\n",
       "    .dataframe tbody tr th:only-of-type {\n",
       "        vertical-align: middle;\n",
       "    }\n",
       "\n",
       "    .dataframe tbody tr th {\n",
       "        vertical-align: top;\n",
       "    }\n",
       "\n",
       "    .dataframe thead th {\n",
       "        text-align: right;\n",
       "    }\n",
       "</style>\n",
       "<table border=\"1\" class=\"dataframe\">\n",
       "  <thead>\n",
       "    <tr style=\"text-align: right;\">\n",
       "      <th></th>\n",
       "      <th>time</th>\n",
       "      <th>open</th>\n",
       "      <th>high</th>\n",
       "      <th>low</th>\n",
       "      <th>close</th>\n",
       "      <th>Basis</th>\n",
       "      <th>Upper</th>\n",
       "      <th>Lower</th>\n",
       "      <th>Plot</th>\n",
       "      <th>Up Trend</th>\n",
       "      <th>...</th>\n",
       "      <th>Short Stop Start</th>\n",
       "      <th>Sell Indicator</th>\n",
       "      <th>Unnamed: 17</th>\n",
       "      <th>RSI</th>\n",
       "      <th>RSI-based MA</th>\n",
       "      <th>Upper Bollinger Band</th>\n",
       "      <th>Lower Bollinger Band</th>\n",
       "      <th>Histogram</th>\n",
       "      <th>MACD</th>\n",
       "      <th>Signal</th>\n",
       "    </tr>\n",
       "  </thead>\n",
       "  <tbody>\n",
       "    <tr>\n",
       "      <th>0</th>\n",
       "      <td>2022-01-01T00:00:00+05:00</td>\n",
       "      <td>3710.190902</td>\n",
       "      <td>3710.190902</td>\n",
       "      <td>3687.67</td>\n",
       "      <td>3696.8150</td>\n",
       "      <td>3755.356750</td>\n",
       "      <td>3828.284653</td>\n",
       "      <td>3682.428847</td>\n",
       "      <td>3703.502951</td>\n",
       "      <td>NaN</td>\n",
       "      <td>...</td>\n",
       "      <td>NaN</td>\n",
       "      <td>NaN</td>\n",
       "      <td>3701.216701</td>\n",
       "      <td>15.829183</td>\n",
       "      <td>28.170419</td>\n",
       "      <td>NaN</td>\n",
       "      <td>NaN</td>\n",
       "      <td>-6.879661</td>\n",
       "      <td>-7.693979</td>\n",
       "      <td>-0.814318</td>\n",
       "    </tr>\n",
       "    <tr>\n",
       "      <th>1</th>\n",
       "      <td>2022-01-01T00:15:00+05:00</td>\n",
       "      <td>3703.502951</td>\n",
       "      <td>3703.502951</td>\n",
       "      <td>3650.99</td>\n",
       "      <td>3670.7225</td>\n",
       "      <td>3749.205375</td>\n",
       "      <td>3828.608802</td>\n",
       "      <td>3669.801948</td>\n",
       "      <td>3687.112725</td>\n",
       "      <td>NaN</td>\n",
       "      <td>...</td>\n",
       "      <td>NaN</td>\n",
       "      <td>NaN</td>\n",
       "      <td>3682.179600</td>\n",
       "      <td>11.733730</td>\n",
       "      <td>25.618750</td>\n",
       "      <td>NaN</td>\n",
       "      <td>NaN</td>\n",
       "      <td>-7.590627</td>\n",
       "      <td>-10.302602</td>\n",
       "      <td>-2.711975</td>\n",
       "    </tr>\n",
       "    <tr>\n",
       "      <th>2</th>\n",
       "      <td>2022-01-01T00:30:00+05:00</td>\n",
       "      <td>3687.112725</td>\n",
       "      <td>3687.112725</td>\n",
       "      <td>3643.00</td>\n",
       "      <td>3653.7125</td>\n",
       "      <td>3741.924750</td>\n",
       "      <td>3828.030828</td>\n",
       "      <td>3655.818672</td>\n",
       "      <td>3670.412613</td>\n",
       "      <td>NaN</td>\n",
       "      <td>...</td>\n",
       "      <td>NaN</td>\n",
       "      <td>NaN</td>\n",
       "      <td>3667.734488</td>\n",
       "      <td>9.920942</td>\n",
       "      <td>22.944212</td>\n",
       "      <td>NaN</td>\n",
       "      <td>NaN</td>\n",
       "      <td>-8.411585</td>\n",
       "      <td>-13.226455</td>\n",
       "      <td>-4.814871</td>\n",
       "    </tr>\n",
       "    <tr>\n",
       "      <th>3</th>\n",
       "      <td>2022-01-01T00:45:00+05:00</td>\n",
       "      <td>3670.412613</td>\n",
       "      <td>3670.412613</td>\n",
       "      <td>3623.00</td>\n",
       "      <td>3637.0675</td>\n",
       "      <td>3733.990375</td>\n",
       "      <td>3827.702215</td>\n",
       "      <td>3640.278535</td>\n",
       "      <td>3653.740056</td>\n",
       "      <td>NaN</td>\n",
       "      <td>...</td>\n",
       "      <td>NaN</td>\n",
       "      <td>NaN</td>\n",
       "      <td>3650.223181</td>\n",
       "      <td>8.524780</td>\n",
       "      <td>20.086898</td>\n",
       "      <td>NaN</td>\n",
       "      <td>NaN</td>\n",
       "      <td>-9.273941</td>\n",
       "      <td>-16.407297</td>\n",
       "      <td>-7.133356</td>\n",
       "    </tr>\n",
       "    <tr>\n",
       "      <th>4</th>\n",
       "      <td>2022-01-01T01:00:00+05:00</td>\n",
       "      <td>3653.740056</td>\n",
       "      <td>3663.870000</td>\n",
       "      <td>3622.29</td>\n",
       "      <td>3642.2325</td>\n",
       "      <td>3726.448250</td>\n",
       "      <td>3824.121569</td>\n",
       "      <td>3628.774931</td>\n",
       "      <td>3647.986278</td>\n",
       "      <td>NaN</td>\n",
       "      <td>...</td>\n",
       "      <td>NaN</td>\n",
       "      <td>NaN</td>\n",
       "      <td>3645.533139</td>\n",
       "      <td>12.656783</td>\n",
       "      <td>17.885605</td>\n",
       "      <td>NaN</td>\n",
       "      <td>NaN</td>\n",
       "      <td>-9.480565</td>\n",
       "      <td>-18.984063</td>\n",
       "      <td>-9.503497</td>\n",
       "    </tr>\n",
       "  </tbody>\n",
       "</table>\n",
       "<p>5 rows × 25 columns</p>\n",
       "</div>"
      ],
      "text/plain": [
       "                        time         open         high      low      close  \\\n",
       "0  2022-01-01T00:00:00+05:00  3710.190902  3710.190902  3687.67  3696.8150   \n",
       "1  2022-01-01T00:15:00+05:00  3703.502951  3703.502951  3650.99  3670.7225   \n",
       "2  2022-01-01T00:30:00+05:00  3687.112725  3687.112725  3643.00  3653.7125   \n",
       "3  2022-01-01T00:45:00+05:00  3670.412613  3670.412613  3623.00  3637.0675   \n",
       "4  2022-01-01T01:00:00+05:00  3653.740056  3663.870000  3622.29  3642.2325   \n",
       "\n",
       "         Basis        Upper        Lower         Plot  Up Trend  ...  \\\n",
       "0  3755.356750  3828.284653  3682.428847  3703.502951       NaN  ...   \n",
       "1  3749.205375  3828.608802  3669.801948  3687.112725       NaN  ...   \n",
       "2  3741.924750  3828.030828  3655.818672  3670.412613       NaN  ...   \n",
       "3  3733.990375  3827.702215  3640.278535  3653.740056       NaN  ...   \n",
       "4  3726.448250  3824.121569  3628.774931  3647.986278       NaN  ...   \n",
       "\n",
       "   Short Stop Start  Sell Indicator  Unnamed: 17        RSI  RSI-based MA  \\\n",
       "0               NaN             NaN  3701.216701  15.829183     28.170419   \n",
       "1               NaN             NaN  3682.179600  11.733730     25.618750   \n",
       "2               NaN             NaN  3667.734488   9.920942     22.944212   \n",
       "3               NaN             NaN  3650.223181   8.524780     20.086898   \n",
       "4               NaN             NaN  3645.533139  12.656783     17.885605   \n",
       "\n",
       "   Upper Bollinger Band  Lower Bollinger Band  Histogram       MACD    Signal  \n",
       "0                   NaN                   NaN  -6.879661  -7.693979 -0.814318  \n",
       "1                   NaN                   NaN  -7.590627 -10.302602 -2.711975  \n",
       "2                   NaN                   NaN  -8.411585 -13.226455 -4.814871  \n",
       "3                   NaN                   NaN  -9.273941 -16.407297 -7.133356  \n",
       "4                   NaN                   NaN  -9.480565 -18.984063 -9.503497  \n",
       "\n",
       "[5 rows x 25 columns]"
      ]
     },
     "execution_count": 198,
     "metadata": {},
     "output_type": "execute_result"
    }
   ],
   "source": [
    "df = pd.read_excel('raw.xlsx')\n",
    "df.head()"
   ]
  },
  {
   "cell_type": "code",
   "execution_count": 199,
   "id": "dd8963b4",
   "metadata": {},
   "outputs": [],
   "source": [
    "df1 = df[['open', 'high', 'low', 'close','Buy Indicator', 'Sell Indicator']]"
   ]
  },
  {
   "cell_type": "code",
   "execution_count": 200,
   "id": "f296a9fd",
   "metadata": {},
   "outputs": [
    {
     "data": {
      "text/html": [
       "<div>\n",
       "<style scoped>\n",
       "    .dataframe tbody tr th:only-of-type {\n",
       "        vertical-align: middle;\n",
       "    }\n",
       "\n",
       "    .dataframe tbody tr th {\n",
       "        vertical-align: top;\n",
       "    }\n",
       "\n",
       "    .dataframe thead th {\n",
       "        text-align: right;\n",
       "    }\n",
       "</style>\n",
       "<table border=\"1\" class=\"dataframe\">\n",
       "  <thead>\n",
       "    <tr style=\"text-align: right;\">\n",
       "      <th></th>\n",
       "      <th>open</th>\n",
       "      <th>high</th>\n",
       "      <th>low</th>\n",
       "      <th>close</th>\n",
       "      <th>Buy Indicator</th>\n",
       "      <th>Sell Indicator</th>\n",
       "    </tr>\n",
       "  </thead>\n",
       "  <tbody>\n",
       "    <tr>\n",
       "      <th>0</th>\n",
       "      <td>3710.190902</td>\n",
       "      <td>3710.190902</td>\n",
       "      <td>3687.67</td>\n",
       "      <td>3696.8150</td>\n",
       "      <td>NaN</td>\n",
       "      <td>NaN</td>\n",
       "    </tr>\n",
       "    <tr>\n",
       "      <th>1</th>\n",
       "      <td>3703.502951</td>\n",
       "      <td>3703.502951</td>\n",
       "      <td>3650.99</td>\n",
       "      <td>3670.7225</td>\n",
       "      <td>NaN</td>\n",
       "      <td>NaN</td>\n",
       "    </tr>\n",
       "    <tr>\n",
       "      <th>2</th>\n",
       "      <td>3687.112725</td>\n",
       "      <td>3687.112725</td>\n",
       "      <td>3643.00</td>\n",
       "      <td>3653.7125</td>\n",
       "      <td>NaN</td>\n",
       "      <td>NaN</td>\n",
       "    </tr>\n",
       "    <tr>\n",
       "      <th>3</th>\n",
       "      <td>3670.412613</td>\n",
       "      <td>3670.412613</td>\n",
       "      <td>3623.00</td>\n",
       "      <td>3637.0675</td>\n",
       "      <td>NaN</td>\n",
       "      <td>NaN</td>\n",
       "    </tr>\n",
       "    <tr>\n",
       "      <th>4</th>\n",
       "      <td>3653.740056</td>\n",
       "      <td>3663.870000</td>\n",
       "      <td>3622.29</td>\n",
       "      <td>3642.2325</td>\n",
       "      <td>NaN</td>\n",
       "      <td>NaN</td>\n",
       "    </tr>\n",
       "    <tr>\n",
       "      <th>...</th>\n",
       "      <td>...</td>\n",
       "      <td>...</td>\n",
       "      <td>...</td>\n",
       "      <td>...</td>\n",
       "      <td>...</td>\n",
       "      <td>...</td>\n",
       "    </tr>\n",
       "    <tr>\n",
       "      <th>5808</th>\n",
       "      <td>2978.304173</td>\n",
       "      <td>2978.304173</td>\n",
       "      <td>2955.00</td>\n",
       "      <td>2963.5475</td>\n",
       "      <td>NaN</td>\n",
       "      <td>NaN</td>\n",
       "    </tr>\n",
       "    <tr>\n",
       "      <th>5809</th>\n",
       "      <td>2970.925837</td>\n",
       "      <td>2976.690000</td>\n",
       "      <td>2955.64</td>\n",
       "      <td>2966.8975</td>\n",
       "      <td>NaN</td>\n",
       "      <td>NaN</td>\n",
       "    </tr>\n",
       "    <tr>\n",
       "      <th>5810</th>\n",
       "      <td>2968.911668</td>\n",
       "      <td>2980.420000</td>\n",
       "      <td>2965.61</td>\n",
       "      <td>2973.7275</td>\n",
       "      <td>NaN</td>\n",
       "      <td>NaN</td>\n",
       "    </tr>\n",
       "    <tr>\n",
       "      <th>5811</th>\n",
       "      <td>2971.319584</td>\n",
       "      <td>2979.220000</td>\n",
       "      <td>2964.00</td>\n",
       "      <td>2971.5375</td>\n",
       "      <td>NaN</td>\n",
       "      <td>NaN</td>\n",
       "    </tr>\n",
       "    <tr>\n",
       "      <th>5812</th>\n",
       "      <td>2971.428542</td>\n",
       "      <td>2975.100000</td>\n",
       "      <td>2958.04</td>\n",
       "      <td>2965.1850</td>\n",
       "      <td>NaN</td>\n",
       "      <td>NaN</td>\n",
       "    </tr>\n",
       "  </tbody>\n",
       "</table>\n",
       "<p>5813 rows × 6 columns</p>\n",
       "</div>"
      ],
      "text/plain": [
       "             open         high      low      close  Buy Indicator  \\\n",
       "0     3710.190902  3710.190902  3687.67  3696.8150            NaN   \n",
       "1     3703.502951  3703.502951  3650.99  3670.7225            NaN   \n",
       "2     3687.112725  3687.112725  3643.00  3653.7125            NaN   \n",
       "3     3670.412613  3670.412613  3623.00  3637.0675            NaN   \n",
       "4     3653.740056  3663.870000  3622.29  3642.2325            NaN   \n",
       "...           ...          ...      ...        ...            ...   \n",
       "5808  2978.304173  2978.304173  2955.00  2963.5475            NaN   \n",
       "5809  2970.925837  2976.690000  2955.64  2966.8975            NaN   \n",
       "5810  2968.911668  2980.420000  2965.61  2973.7275            NaN   \n",
       "5811  2971.319584  2979.220000  2964.00  2971.5375            NaN   \n",
       "5812  2971.428542  2975.100000  2958.04  2965.1850            NaN   \n",
       "\n",
       "      Sell Indicator  \n",
       "0                NaN  \n",
       "1                NaN  \n",
       "2                NaN  \n",
       "3                NaN  \n",
       "4                NaN  \n",
       "...              ...  \n",
       "5808             NaN  \n",
       "5809             NaN  \n",
       "5810             NaN  \n",
       "5811             NaN  \n",
       "5812             NaN  \n",
       "\n",
       "[5813 rows x 6 columns]"
      ]
     },
     "execution_count": 200,
     "metadata": {},
     "output_type": "execute_result"
    }
   ],
   "source": [
    "df1"
   ]
  },
  {
   "cell_type": "code",
   "execution_count": 65,
   "id": "fc10740f",
   "metadata": {},
   "outputs": [],
   "source": []
  },
  {
   "cell_type": "code",
   "execution_count": 201,
   "id": "e8d683f0",
   "metadata": {},
   "outputs": [],
   "source": [
    "def calculate_index(df, column_name):\n",
    "\n",
    "    # df -> dataframe\n",
    "    # column_name -> sell or sell indicator\n",
    "    index_ = []\n",
    "    for index, row in df.iterrows():\n",
    "         if row[column_name] > 0:\n",
    "            index_.append(index) \n",
    "\n",
    "    return index_ "
   ]
  },
  {
   "cell_type": "code",
   "execution_count": 258,
   "id": "d91b1b46",
   "metadata": {},
   "outputs": [],
   "source": [
    "index_buy  = calculate_index(df1, 'Buy Indicator')"
   ]
  },
  {
   "cell_type": "code",
   "execution_count": 259,
   "id": "d9e5ea83",
   "metadata": {},
   "outputs": [],
   "source": [
    "index_sell = calculate_index(df1, 'Sell Indicator')"
   ]
  },
  {
   "cell_type": "code",
   "execution_count": 103,
   "id": "d4eee82b",
   "metadata": {},
   "outputs": [],
   "source": [
    "if len(index_buy) < len(index_sell):\n",
    "    diff = len(index_buy) - len(index_sell)\n",
    "    index_sell = index_sell[-diff:]"
   ]
  },
  {
   "cell_type": "code",
   "execution_count": 81,
   "id": "718893a5",
   "metadata": {},
   "outputs": [
    {
     "data": {
      "text/plain": [
       "[5712, 5727, 5759, 5775, 5792]"
      ]
     },
     "execution_count": 81,
     "metadata": {},
     "output_type": "execute_result"
    }
   ],
   "source": [
    "index_buy[-5:]"
   ]
  },
  {
   "cell_type": "code",
   "execution_count": 104,
   "id": "7d03fff8",
   "metadata": {},
   "outputs": [
    {
     "data": {
      "text/plain": [
       "210"
      ]
     },
     "execution_count": 104,
     "metadata": {},
     "output_type": "execute_result"
    }
   ],
   "source": [
    "len(index_buy)"
   ]
  },
  {
   "cell_type": "code",
   "execution_count": 105,
   "id": "2fda4c9f",
   "metadata": {},
   "outputs": [
    {
     "data": {
      "text/plain": [
       "210"
      ]
     },
     "execution_count": 105,
     "metadata": {},
     "output_type": "execute_result"
    }
   ],
   "source": [
    "len(index_sell)"
   ]
  },
  {
   "cell_type": "code",
   "execution_count": 204,
   "id": "948a4b21",
   "metadata": {},
   "outputs": [],
   "source": [
    "t1 = index_buy[0]\n",
    "t2 = index_sell[0]"
   ]
  },
  {
   "cell_type": "code",
   "execution_count": 114,
   "id": "a42fb9b5",
   "metadata": {},
   "outputs": [
    {
     "data": {
      "text/plain": [
       "36"
      ]
     },
     "execution_count": 114,
     "metadata": {},
     "output_type": "execute_result"
    }
   ],
   "source": [
    "t2"
   ]
  },
  {
   "cell_type": "code",
   "execution_count": 115,
   "id": "c41005d5",
   "metadata": {},
   "outputs": [
    {
     "data": {
      "text/plain": [
       "3652.77844454396"
      ]
     },
     "execution_count": 115,
     "metadata": {},
     "output_type": "execute_result"
    }
   ],
   "source": []
  },
  {
   "cell_type": "code",
   "execution_count": 205,
   "id": "163762ca",
   "metadata": {},
   "outputs": [],
   "source": [
    "df_new = pd.DataFrame(columns=['Buy', 'Sell', 'Stop_loss', 'Min', 'Max'])"
   ]
  },
  {
   "cell_type": "code",
   "execution_count": 206,
   "id": "34dfb650",
   "metadata": {},
   "outputs": [],
   "source": [
    "# buy\n",
    "df_new.loc[0, 'Buy'] =  df1.loc[t1, 'Buy Indicator']\n",
    "# Sell\n",
    "df_new.loc[0, 'Sell'] = df1.loc[t2, 'Sell Indicator']\n",
    "# Stop loss\n",
    "df_new.loc[0, 'Stop_loss'] = df1.loc[t1-3, 'open']"
   ]
  },
  {
   "cell_type": "code",
   "execution_count": 207,
   "id": "a0976f67",
   "metadata": {},
   "outputs": [],
   "source": [
    "# max\n",
    "df_new.loc[0, 'Min'] = df1[['open', 'high', 'low', 'close']].loc[t1:t2].min().min()"
   ]
  },
  {
   "cell_type": "code",
   "execution_count": 208,
   "id": "c39f487f",
   "metadata": {},
   "outputs": [],
   "source": [
    "min\n",
    "df_new.loc[0, 'Max'] = df1[['open', 'high', 'low', 'close']].loc[t1:t2].max().max()"
   ]
  },
  {
   "cell_type": "code",
   "execution_count": 209,
   "id": "25200b4f",
   "metadata": {},
   "outputs": [
    {
     "data": {
      "text/html": [
       "<div>\n",
       "<style scoped>\n",
       "    .dataframe tbody tr th:only-of-type {\n",
       "        vertical-align: middle;\n",
       "    }\n",
       "\n",
       "    .dataframe tbody tr th {\n",
       "        vertical-align: top;\n",
       "    }\n",
       "\n",
       "    .dataframe thead th {\n",
       "        text-align: right;\n",
       "    }\n",
       "</style>\n",
       "<table border=\"1\" class=\"dataframe\">\n",
       "  <thead>\n",
       "    <tr style=\"text-align: right;\">\n",
       "      <th></th>\n",
       "      <th>Buy</th>\n",
       "      <th>Sell</th>\n",
       "      <th>Stop_loss</th>\n",
       "      <th>Min</th>\n",
       "      <th>Max</th>\n",
       "    </tr>\n",
       "  </thead>\n",
       "  <tbody>\n",
       "    <tr>\n",
       "      <th>0</th>\n",
       "      <td>3633.243295</td>\n",
       "      <td>3733.323632</td>\n",
       "      <td>3652.778445</td>\n",
       "      <td>3648.261993</td>\n",
       "      <td>3748.45</td>\n",
       "    </tr>\n",
       "  </tbody>\n",
       "</table>\n",
       "</div>"
      ],
      "text/plain": [
       "           Buy         Sell    Stop_loss          Min      Max\n",
       "0  3633.243295  3733.323632  3652.778445  3648.261993  3748.45"
      ]
     },
     "execution_count": 209,
     "metadata": {},
     "output_type": "execute_result"
    }
   ],
   "source": [
    "df_new"
   ]
  },
  {
   "cell_type": "code",
   "execution_count": 210,
   "id": "71733c0e",
   "metadata": {},
   "outputs": [],
   "source": [
    "path = os.getcwd()"
   ]
  },
  {
   "cell_type": "code",
   "execution_count": 211,
   "id": "5a490865",
   "metadata": {},
   "outputs": [],
   "source": [
    "path = os.path.join(path, 'raw.xlsx')"
   ]
  },
  {
   "cell_type": "code",
   "execution_count": 217,
   "id": "42593919",
   "metadata": {},
   "outputs": [],
   "source": [
    "book = load_workbook(path)"
   ]
  },
  {
   "cell_type": "code",
   "execution_count": 218,
   "id": "bcf6ec02",
   "metadata": {},
   "outputs": [],
   "source": [
    "writer = pd.ExcelWriter(path, engine = 'openpyxl')"
   ]
  },
  {
   "cell_type": "code",
   "execution_count": 219,
   "id": "f8d7e997",
   "metadata": {},
   "outputs": [],
   "source": [
    "writer.book = book"
   ]
  },
  {
   "cell_type": "code",
   "execution_count": 220,
   "id": "51d5f748",
   "metadata": {},
   "outputs": [],
   "source": [
    "df_new.to_excel(writer, sheet_name='processed')"
   ]
  },
  {
   "cell_type": "code",
   "execution_count": 221,
   "id": "30b5c64b",
   "metadata": {},
   "outputs": [],
   "source": [
    "writer.save()"
   ]
  },
  {
   "cell_type": "code",
   "execution_count": 222,
   "id": "91b903e2",
   "metadata": {},
   "outputs": [],
   "source": [
    "writer.close()"
   ]
  },
  {
   "cell_type": "code",
   "execution_count": 224,
   "id": "48d72529",
   "metadata": {},
   "outputs": [
    {
     "data": {
      "text/plain": [
       "215"
      ]
     },
     "execution_count": 224,
     "metadata": {},
     "output_type": "execute_result"
    }
   ],
   "source": [
    "len(index_buy)"
   ]
  },
  {
   "cell_type": "code",
   "execution_count": 225,
   "id": "7dafa1a8",
   "metadata": {},
   "outputs": [
    {
     "data": {
      "text/plain": [
       "215"
      ]
     },
     "execution_count": 225,
     "metadata": {},
     "output_type": "execute_result"
    }
   ],
   "source": [
    "len(index_sell)"
   ]
  },
  {
   "cell_type": "code",
   "execution_count": 227,
   "id": "fd644dfd",
   "metadata": {},
   "outputs": [
    {
     "data": {
      "text/plain": [
       "[5721, 5744, 5771, 5782, 5805]"
      ]
     },
     "execution_count": 227,
     "metadata": {},
     "output_type": "execute_result"
    }
   ],
   "source": [
    "index_sell[-5:]"
   ]
  },
  {
   "cell_type": "code",
   "execution_count": 228,
   "id": "ea8b73fd",
   "metadata": {},
   "outputs": [
    {
     "data": {
      "text/plain": [
       "[36,\n",
       " 47,\n",
       " 79,\n",
       " 108,\n",
       " 122,\n",
       " 135,\n",
       " 159,\n",
       " 189,\n",
       " 212,\n",
       " 249,\n",
       " 263,\n",
       " 272,\n",
       " 311,\n",
       " 371,\n",
       " 425,\n",
       " 437,\n",
       " 447,\n",
       " 471,\n",
       " 561,\n",
       " 583,\n",
       " 639,\n",
       " 648,\n",
       " 671,\n",
       " 685,\n",
       " 701,\n",
       " 718,\n",
       " 735,\n",
       " 788,\n",
       " 821,\n",
       " 837,\n",
       " 875,\n",
       " 911,\n",
       " 953,\n",
       " 982,\n",
       " 1001,\n",
       " 1016,\n",
       " 1022,\n",
       " 1035,\n",
       " 1079,\n",
       " 1094,\n",
       " 1105,\n",
       " 1140,\n",
       " 1164,\n",
       " 1192,\n",
       " 1216,\n",
       " 1233,\n",
       " 1298,\n",
       " 1361,\n",
       " 1381,\n",
       " 1411,\n",
       " 1436,\n",
       " 1449,\n",
       " 1495,\n",
       " 1503,\n",
       " 1513,\n",
       " 1531,\n",
       " 1557,\n",
       " 1588,\n",
       " 1639,\n",
       " 1660,\n",
       " 1684,\n",
       " 1698,\n",
       " 1748,\n",
       " 1790,\n",
       " 1811,\n",
       " 1830,\n",
       " 1877,\n",
       " 1894,\n",
       " 1915,\n",
       " 1984,\n",
       " 2008,\n",
       " 2095,\n",
       " 2106,\n",
       " 2126,\n",
       " 2141,\n",
       " 2153,\n",
       " 2178,\n",
       " 2230,\n",
       " 2247,\n",
       " 2318,\n",
       " 2342,\n",
       " 2378,\n",
       " 2384,\n",
       " 2403,\n",
       " 2423,\n",
       " 2445,\n",
       " 2483,\n",
       " 2500,\n",
       " 2521,\n",
       " 2559,\n",
       " 2580,\n",
       " 2618,\n",
       " 2639,\n",
       " 2671,\n",
       " 2689,\n",
       " 2703,\n",
       " 2714,\n",
       " 2729,\n",
       " 2744,\n",
       " 2767,\n",
       " 2797,\n",
       " 2806,\n",
       " 2856,\n",
       " 2870,\n",
       " 2879,\n",
       " 2901,\n",
       " 2946,\n",
       " 3004,\n",
       " 3020,\n",
       " 3035,\n",
       " 3055,\n",
       " 3072,\n",
       " 3094,\n",
       " 3109,\n",
       " 3119,\n",
       " 3137,\n",
       " 3148,\n",
       " 3177,\n",
       " 3196,\n",
       " 3225,\n",
       " 3237,\n",
       " 3256,\n",
       " 3338,\n",
       " 3374,\n",
       " 3407,\n",
       " 3426,\n",
       " 3447,\n",
       " 3473,\n",
       " 3486,\n",
       " 3518,\n",
       " 3535,\n",
       " 3559,\n",
       " 3574,\n",
       " 3603,\n",
       " 3655,\n",
       " 3681,\n",
       " 3697,\n",
       " 3728,\n",
       " 3771,\n",
       " 3784,\n",
       " 3798,\n",
       " 3826,\n",
       " 3852,\n",
       " 3914,\n",
       " 3932,\n",
       " 3976,\n",
       " 3991,\n",
       " 4017,\n",
       " 4065,\n",
       " 4093,\n",
       " 4106,\n",
       " 4131,\n",
       " 4137,\n",
       " 4157,\n",
       " 4188,\n",
       " 4206,\n",
       " 4222,\n",
       " 4244,\n",
       " 4267,\n",
       " 4279,\n",
       " 4318,\n",
       " 4342,\n",
       " 4359,\n",
       " 4409,\n",
       " 4426,\n",
       " 4440,\n",
       " 4452,\n",
       " 4475,\n",
       " 4522,\n",
       " 4542,\n",
       " 4566,\n",
       " 4584,\n",
       " 4647,\n",
       " 4669,\n",
       " 4716,\n",
       " 4738,\n",
       " 4759,\n",
       " 4800,\n",
       " 4809,\n",
       " 4822,\n",
       " 4872,\n",
       " 4898,\n",
       " 4931,\n",
       " 4950,\n",
       " 4987,\n",
       " 5024,\n",
       " 5077,\n",
       " 5095,\n",
       " 5115,\n",
       " 5165,\n",
       " 5179,\n",
       " 5244,\n",
       " 5275,\n",
       " 5294,\n",
       " 5313,\n",
       " 5332,\n",
       " 5359,\n",
       " 5372,\n",
       " 5408,\n",
       " 5418,\n",
       " 5431,\n",
       " 5469,\n",
       " 5484,\n",
       " 5546,\n",
       " 5563,\n",
       " 5599,\n",
       " 5628,\n",
       " 5641,\n",
       " 5692,\n",
       " 5707,\n",
       " 5721,\n",
       " 5744,\n",
       " 5771,\n",
       " 5782,\n",
       " 5805]"
      ]
     },
     "execution_count": 228,
     "metadata": {},
     "output_type": "execute_result"
    }
   ],
   "source": [
    "index_sell"
   ]
  },
  {
   "cell_type": "code",
   "execution_count": 257,
   "id": "c44cf579",
   "metadata": {},
   "outputs": [],
   "source": [
    "def equalize_indexes(buy_index, sell_index):\n",
    "\n",
    "    if len(buy_index) > len(sell_index):\n",
    "        diff = len(buy_index) - len(sell_index)\n",
    "        buy_index = buy_index[:len(buy_index)-diff]\n",
    "    \n",
    "    elif len(sell_index) > len(buy_index):\n",
    "        diff = len(sell_index) - len(buy_index)\n",
    "        sell_index = sell_index[:len(sell_index)-diff]\n",
    "\n",
    "    return buy_index, sell_index"
   ]
  },
  {
   "cell_type": "code",
   "execution_count": 268,
   "id": "5b4cfac0",
   "metadata": {},
   "outputs": [],
   "source": [
    "index_buy, index_sell = equalize_indexes(index_buy, index_sell)"
   ]
  },
  {
   "cell_type": "code",
   "execution_count": 269,
   "id": "709debf7",
   "metadata": {},
   "outputs": [
    {
     "data": {
      "text/plain": [
       "205"
      ]
     },
     "execution_count": 269,
     "metadata": {},
     "output_type": "execute_result"
    }
   ],
   "source": [
    "len(index_buy)"
   ]
  },
  {
   "cell_type": "code",
   "execution_count": 270,
   "id": "4a99415e",
   "metadata": {},
   "outputs": [
    {
     "data": {
      "text/plain": [
       "205"
      ]
     },
     "execution_count": 270,
     "metadata": {},
     "output_type": "execute_result"
    }
   ],
   "source": [
    "len(index_sell)"
   ]
  },
  {
   "cell_type": "code",
   "execution_count": 265,
   "id": "a6665a1a",
   "metadata": {},
   "outputs": [],
   "source": [
    "index_buy = index_buy[:205]"
   ]
  },
  {
   "cell_type": "code",
   "execution_count": 271,
   "id": "62dcc0b6",
   "metadata": {},
   "outputs": [
    {
     "data": {
      "text/plain": [
       "[36,\n",
       " 47,\n",
       " 79,\n",
       " 108,\n",
       " 122,\n",
       " 135,\n",
       " 159,\n",
       " 189,\n",
       " 212,\n",
       " 249,\n",
       " 263,\n",
       " 272,\n",
       " 311,\n",
       " 371,\n",
       " 425,\n",
       " 437,\n",
       " 447,\n",
       " 471,\n",
       " 561,\n",
       " 583,\n",
       " 639,\n",
       " 648,\n",
       " 671,\n",
       " 685,\n",
       " 701,\n",
       " 718,\n",
       " 735,\n",
       " 788,\n",
       " 821,\n",
       " 837,\n",
       " 875,\n",
       " 911,\n",
       " 953,\n",
       " 982,\n",
       " 1001,\n",
       " 1016,\n",
       " 1022,\n",
       " 1035,\n",
       " 1079,\n",
       " 1094,\n",
       " 1105,\n",
       " 1140,\n",
       " 1164,\n",
       " 1192,\n",
       " 1216,\n",
       " 1233,\n",
       " 1298,\n",
       " 1361,\n",
       " 1381,\n",
       " 1411,\n",
       " 1436,\n",
       " 1449,\n",
       " 1495,\n",
       " 1503,\n",
       " 1513,\n",
       " 1531,\n",
       " 1557,\n",
       " 1588,\n",
       " 1639,\n",
       " 1660,\n",
       " 1684,\n",
       " 1698,\n",
       " 1748,\n",
       " 1790,\n",
       " 1811,\n",
       " 1830,\n",
       " 1877,\n",
       " 1894,\n",
       " 1915,\n",
       " 1984,\n",
       " 2008,\n",
       " 2095,\n",
       " 2106,\n",
       " 2126,\n",
       " 2141,\n",
       " 2153,\n",
       " 2178,\n",
       " 2230,\n",
       " 2247,\n",
       " 2318,\n",
       " 2342,\n",
       " 2378,\n",
       " 2384,\n",
       " 2403,\n",
       " 2423,\n",
       " 2445,\n",
       " 2483,\n",
       " 2500,\n",
       " 2521,\n",
       " 2559,\n",
       " 2580,\n",
       " 2618,\n",
       " 2639,\n",
       " 2671,\n",
       " 2689,\n",
       " 2703,\n",
       " 2714,\n",
       " 2729,\n",
       " 2744,\n",
       " 2767,\n",
       " 2797,\n",
       " 2806,\n",
       " 2856,\n",
       " 2870,\n",
       " 2879,\n",
       " 2901,\n",
       " 2946,\n",
       " 3004,\n",
       " 3020,\n",
       " 3035,\n",
       " 3055,\n",
       " 3072,\n",
       " 3094,\n",
       " 3109,\n",
       " 3119,\n",
       " 3137,\n",
       " 3148,\n",
       " 3177,\n",
       " 3196,\n",
       " 3225,\n",
       " 3237,\n",
       " 3256,\n",
       " 3338,\n",
       " 3374,\n",
       " 3407,\n",
       " 3426,\n",
       " 3447,\n",
       " 3473,\n",
       " 3486,\n",
       " 3518,\n",
       " 3535,\n",
       " 3559,\n",
       " 3574,\n",
       " 3603,\n",
       " 3655,\n",
       " 3681,\n",
       " 3697,\n",
       " 3728,\n",
       " 3771,\n",
       " 3784,\n",
       " 3798,\n",
       " 3826,\n",
       " 3852,\n",
       " 3914,\n",
       " 3932,\n",
       " 3976,\n",
       " 3991,\n",
       " 4017,\n",
       " 4065,\n",
       " 4093,\n",
       " 4106,\n",
       " 4131,\n",
       " 4137,\n",
       " 4157,\n",
       " 4188,\n",
       " 4206,\n",
       " 4222,\n",
       " 4244,\n",
       " 4267,\n",
       " 4279,\n",
       " 4318,\n",
       " 4342,\n",
       " 4359,\n",
       " 4409,\n",
       " 4426,\n",
       " 4440,\n",
       " 4452,\n",
       " 4475,\n",
       " 4522,\n",
       " 4542,\n",
       " 4566,\n",
       " 4584,\n",
       " 4647,\n",
       " 4669,\n",
       " 4716,\n",
       " 4738,\n",
       " 4759,\n",
       " 4800,\n",
       " 4809,\n",
       " 4822,\n",
       " 4872,\n",
       " 4898,\n",
       " 4931,\n",
       " 4950,\n",
       " 4987,\n",
       " 5024,\n",
       " 5077,\n",
       " 5095,\n",
       " 5115,\n",
       " 5165,\n",
       " 5179,\n",
       " 5244,\n",
       " 5275,\n",
       " 5294,\n",
       " 5313,\n",
       " 5332,\n",
       " 5359,\n",
       " 5372,\n",
       " 5408,\n",
       " 5418,\n",
       " 5431,\n",
       " 5469,\n",
       " 5484,\n",
       " 5546,\n",
       " 5563]"
      ]
     },
     "execution_count": 271,
     "metadata": {},
     "output_type": "execute_result"
    }
   ],
   "source": [
    "index_sell"
   ]
  },
  {
   "cell_type": "code",
   "execution_count": null,
   "id": "bd6e83f7",
   "metadata": {},
   "outputs": [],
   "source": []
  }
 ],
 "metadata": {
  "kernelspec": {
   "display_name": "Python 3 (ipykernel)",
   "language": "python",
   "name": "python3"
  },
  "language_info": {
   "codemirror_mode": {
    "name": "ipython",
    "version": 3
   },
   "file_extension": ".py",
   "mimetype": "text/x-python",
   "name": "python",
   "nbconvert_exporter": "python",
   "pygments_lexer": "ipython3",
   "version": "3.9.7"
  }
 },
 "nbformat": 4,
 "nbformat_minor": 5
}
